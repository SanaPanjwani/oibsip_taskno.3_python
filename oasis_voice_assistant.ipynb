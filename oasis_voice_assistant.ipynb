{
 "cells": [
  {
   "cell_type": "markdown",
   "id": "871f9393",
   "metadata": {},
   "source": [
    "# Task 1: Voice Assistant"
   ]
  },
  {
   "cell_type": "raw",
   "id": "0df3b181",
   "metadata": {},
   "source": [
    "Before running this code, make sure to install the required packages:\n",
    "pip install SpeechRecognition pyttsx3 wikipedia"
   ]
  },
  {
   "cell_type": "code",
   "execution_count": 2,
   "id": "e9a0e941",
   "metadata": {},
   "outputs": [],
   "source": [
    "import pyttsx3\n",
    "import speech_recognition as sr\n",
    "import datetime\n",
    "import smtplib\n",
    "import webbrowser\n",
    "import wikipedia\n",
    "import requests\n",
    "import json\n",
    "\n",
    "# Initialize the text-to-speech engine\n",
    "engine = pyttsx3.init()\n",
    "\n",
    "# Function to speak the given text\n",
    "def speak(text):\n",
    "    engine.say(text)\n",
    "    engine.runAndWait()"
   ]
  },
  {
   "cell_type": "raw",
   "id": "5413eedb",
   "metadata": {},
   "source": [
    "#Explaination \n",
    "listen():\n",
    "Utilizes the speech_recognition library to capture audio from the user's microphone and convert it to text.\n",
    "#Parameters: None\n",
    "#Returns:\n",
    "Returns the recognized text from the user's speech."
   ]
  },
  {
   "cell_type": "code",
   "execution_count": 3,
   "id": "74d773bb",
   "metadata": {},
   "outputs": [],
   "source": [
    "# Function to convert speech to text\n",
    "def listen():\n",
    "    recognizer = sr.Recognizer()\n",
    "    with sr.Microphone() as source:\n",
    "        print(\"Listening...\")\n",
    "        recognizer.adjust_for_ambient_noise(source, duration=1)\n",
    "        audio = recognizer.listen(source)\n",
    "\n",
    "    try:\n",
    "        print(\"Recognizing...\")\n",
    "        query = recognizer.recognize_google(audio).lower()\n",
    "        print(f\"You: {query}\")\n",
    "        return query\n",
    "    except sr.UnknownValueError:\n",
    "        print(\"Sorry, I didn't get that. Could you please repeat?\")\n",
    "        return \"\"\n",
    "    except sr.RequestError as e:\n",
    "        print(f\"Could not request results from Google Speech Recognition service; {e}\")\n",
    "        return \"\""
   ]
  },
  {
   "cell_type": "raw",
   "id": "56935095",
   "metadata": {},
   "source": [
    "Explaination : send_email(to, subject, body):\n",
    "\n",
    "Sends an email using predefined email credentials (replace with your own).\n",
    "Parameters:\n",
    "to: The recipient's email address.\n",
    "subject: The subject of the email.\n",
    "body: The body of the email."
   ]
  },
  {
   "cell_type": "code",
   "execution_count": 4,
   "id": "fbb4458f",
   "metadata": {},
   "outputs": [],
   "source": [
    "# Function to send an email (replace with your email credentials)\n",
    "def send_email(to, subject, body):\n",
    "    # Your email configuration here\n",
    "    email_user = \"your_email@gmail.com\" #add your desired email id\n",
    "    email_password = \"your_email_password\" #add your desire email's password\n",
    "    server = smtplib.SMTP('smtp.gmail.com', 587)\n",
    "    server.starttls()\n",
    "    server.login(email_user, email_password)\n",
    "\n",
    "    # Compose the email\n",
    "    message = f\"Subject: {subject}\\n\\n{body}\"\n",
    "    server.sendmail(email_user, to, message)\n",
    "    server.quit()"
   ]
  },
  {
   "cell_type": "raw",
   "id": "e749fb27",
   "metadata": {},
   "source": [
    "Explaination:  get_weather(city):\n",
    "\n",
    "Retrieves weather information for a specified city using the OpenWeatherMap API.\n",
    "Parameters:\n",
    "city: The name of the city for which weather information is requested.\n",
    "Returns:\n",
    "Returns a string with the weather information."
   ]
  },
  {
   "cell_type": "code",
   "execution_count": 8,
   "id": "658bd6db",
   "metadata": {},
   "outputs": [],
   "source": [
    "# Function to get weather information\n",
    "def get_weather(city):\n",
    "    # Replace 'your_api_key' with an actual OpenWeatherMap API key\n",
    "    #api_key = 'your_api_key'\n",
    "    api_key = '58ae62eb28bd8d83245183f4212bcd21'\n",
    "    base_url = f'http://api.openweathermap.org/data/2.5/weather?q={city}&appid={api_key}'\n",
    "    response = requests.get(base_url)\n",
    "    data = response.json()\n",
    "\n",
    "    # Check if the response contains the expected keys\n",
    "    if 'main' not in data or 'weather' not in data:\n",
    "        return \"Error fetching weather information. Please check the city name.\"\n",
    "\n",
    "    try:\n",
    "        temperature = data['main']['temp']\n",
    "        description = data['weather'][0]['description']\n",
    "        # Convert temperature from Kelvin to Celsius (you can modify this as needed)\n",
    "        temperature_celsius = temperature - 273.15\n",
    "        return f\"The temperature in {city} is {temperature_celsius:.2f} Celsius with {description}.\"\n",
    "    except KeyError:\n",
    "        return \"Error parsing weather information. Please try again.\""
   ]
  },
  {
   "cell_type": "raw",
   "id": "0bacffac",
   "metadata": {},
   "source": [
    "Explaination: main voice assistant loop:\n",
    "\n",
    "Runs an infinite loop where the voice assistant continuously listens to the user's commands and responds accordingly.\n",
    "Recognizes specific phrases to trigger different actions such as greeting, fetching the current time, sending emails, checking the weather, searching the web, getting information from Wikipedia, and exiting the program.\n",
    "The loop continues until the user says \"exit\" or \"bye\"."
   ]
  },
  {
   "cell_type": "code",
   "execution_count": 11,
   "id": "bbec9110",
   "metadata": {},
   "outputs": [
    {
     "name": "stdout",
     "output_type": "stream",
     "text": [
      "Listening...\n",
      "Recognizing...\n",
      "Sorry, I didn't get that. Could you please repeat?\n",
      "Listening...\n",
      "Recognizing...\n",
      "You: hello\n",
      "Listening...\n",
      "Recognizing...\n",
      "You: what is the time\n",
      "Listening...\n",
      "Recognizing...\n",
      "You: weather\n",
      "Listening...\n",
      "Recognizing...\n",
      "You: new delhi\n",
      "Listening...\n",
      "Recognizing...\n",
      "Sorry, I didn't get that. Could you please repeat?\n",
      "Listening...\n",
      "Recognizing...\n",
      "Sorry, I didn't get that. Could you please repeat?\n",
      "Listening...\n",
      "Recognizing...\n",
      "Sorry, I didn't get that. Could you please repeat?\n",
      "Listening...\n"
     ]
    },
    {
     "ename": "KeyboardInterrupt",
     "evalue": "",
     "output_type": "error",
     "traceback": [
      "\u001b[1;31m---------------------------------------------------------------------------\u001b[0m",
      "\u001b[1;31mKeyboardInterrupt\u001b[0m                         Traceback (most recent call last)",
      "Cell \u001b[1;32mIn[11], line 3\u001b[0m\n\u001b[0;32m      1\u001b[0m \u001b[38;5;66;03m# Main voice assistant loop\u001b[39;00m\n\u001b[0;32m      2\u001b[0m \u001b[38;5;28;01mwhile\u001b[39;00m \u001b[38;5;28;01mTrue\u001b[39;00m:\n\u001b[1;32m----> 3\u001b[0m     query \u001b[38;5;241m=\u001b[39m \u001b[43mlisten\u001b[49m\u001b[43m(\u001b[49m\u001b[43m)\u001b[49m\n\u001b[0;32m      5\u001b[0m     \u001b[38;5;28;01mif\u001b[39;00m \u001b[38;5;124m\"\u001b[39m\u001b[38;5;124mhello\u001b[39m\u001b[38;5;124m\"\u001b[39m \u001b[38;5;129;01min\u001b[39;00m query:\n\u001b[0;32m      6\u001b[0m         speak(\u001b[38;5;124m\"\u001b[39m\u001b[38;5;124mHello! How can I assist you today?\u001b[39m\u001b[38;5;124m\"\u001b[39m)\n",
      "Cell \u001b[1;32mIn[3], line 7\u001b[0m, in \u001b[0;36mlisten\u001b[1;34m()\u001b[0m\n\u001b[0;32m      5\u001b[0m     \u001b[38;5;28mprint\u001b[39m(\u001b[38;5;124m\"\u001b[39m\u001b[38;5;124mListening...\u001b[39m\u001b[38;5;124m\"\u001b[39m)\n\u001b[0;32m      6\u001b[0m     recognizer\u001b[38;5;241m.\u001b[39madjust_for_ambient_noise(source, duration\u001b[38;5;241m=\u001b[39m\u001b[38;5;241m1\u001b[39m)\n\u001b[1;32m----> 7\u001b[0m     audio \u001b[38;5;241m=\u001b[39m \u001b[43mrecognizer\u001b[49m\u001b[38;5;241;43m.\u001b[39;49m\u001b[43mlisten\u001b[49m\u001b[43m(\u001b[49m\u001b[43msource\u001b[49m\u001b[43m)\u001b[49m\n\u001b[0;32m      9\u001b[0m \u001b[38;5;28;01mtry\u001b[39;00m:\n\u001b[0;32m     10\u001b[0m     \u001b[38;5;28mprint\u001b[39m(\u001b[38;5;124m\"\u001b[39m\u001b[38;5;124mRecognizing...\u001b[39m\u001b[38;5;124m\"\u001b[39m)\n",
      "File \u001b[1;32mC:\\Python311\\Lib\\site-packages\\speech_recognition\\__init__.py:491\u001b[0m, in \u001b[0;36mRecognizer.listen\u001b[1;34m(self, source, timeout, phrase_time_limit, snowboy_configuration)\u001b[0m\n\u001b[0;32m    488\u001b[0m \u001b[38;5;28;01mif\u001b[39;00m timeout \u001b[38;5;129;01mand\u001b[39;00m elapsed_time \u001b[38;5;241m>\u001b[39m timeout:\n\u001b[0;32m    489\u001b[0m     \u001b[38;5;28;01mraise\u001b[39;00m WaitTimeoutError(\u001b[38;5;124m\"\u001b[39m\u001b[38;5;124mlistening timed out while waiting for phrase to start\u001b[39m\u001b[38;5;124m\"\u001b[39m)\n\u001b[1;32m--> 491\u001b[0m buffer \u001b[38;5;241m=\u001b[39m \u001b[43msource\u001b[49m\u001b[38;5;241;43m.\u001b[39;49m\u001b[43mstream\u001b[49m\u001b[38;5;241;43m.\u001b[39;49m\u001b[43mread\u001b[49m\u001b[43m(\u001b[49m\u001b[43msource\u001b[49m\u001b[38;5;241;43m.\u001b[39;49m\u001b[43mCHUNK\u001b[49m\u001b[43m)\u001b[49m\n\u001b[0;32m    492\u001b[0m \u001b[38;5;28;01mif\u001b[39;00m \u001b[38;5;28mlen\u001b[39m(buffer) \u001b[38;5;241m==\u001b[39m \u001b[38;5;241m0\u001b[39m: \u001b[38;5;28;01mbreak\u001b[39;00m  \u001b[38;5;66;03m# reached end of the stream\u001b[39;00m\n\u001b[0;32m    493\u001b[0m frames\u001b[38;5;241m.\u001b[39mappend(buffer)\n",
      "File \u001b[1;32mC:\\Python311\\Lib\\site-packages\\speech_recognition\\__init__.py:199\u001b[0m, in \u001b[0;36mMicrophone.MicrophoneStream.read\u001b[1;34m(self, size)\u001b[0m\n\u001b[0;32m    198\u001b[0m \u001b[38;5;28;01mdef\u001b[39;00m \u001b[38;5;21mread\u001b[39m(\u001b[38;5;28mself\u001b[39m, size):\n\u001b[1;32m--> 199\u001b[0m     \u001b[38;5;28;01mreturn\u001b[39;00m \u001b[38;5;28;43mself\u001b[39;49m\u001b[38;5;241;43m.\u001b[39;49m\u001b[43mpyaudio_stream\u001b[49m\u001b[38;5;241;43m.\u001b[39;49m\u001b[43mread\u001b[49m\u001b[43m(\u001b[49m\u001b[43msize\u001b[49m\u001b[43m,\u001b[49m\u001b[43m \u001b[49m\u001b[43mexception_on_overflow\u001b[49m\u001b[38;5;241;43m=\u001b[39;49m\u001b[38;5;28;43;01mFalse\u001b[39;49;00m\u001b[43m)\u001b[49m\n",
      "File \u001b[1;32mC:\\Python311\\Lib\\site-packages\\pyaudio\\__init__.py:570\u001b[0m, in \u001b[0;36mPyAudio.Stream.read\u001b[1;34m(self, num_frames, exception_on_overflow)\u001b[0m\n\u001b[0;32m    567\u001b[0m \u001b[38;5;28;01mif\u001b[39;00m \u001b[38;5;129;01mnot\u001b[39;00m \u001b[38;5;28mself\u001b[39m\u001b[38;5;241m.\u001b[39m_is_input:\n\u001b[0;32m    568\u001b[0m     \u001b[38;5;28;01mraise\u001b[39;00m \u001b[38;5;167;01mIOError\u001b[39;00m(\u001b[38;5;124m\"\u001b[39m\u001b[38;5;124mNot input stream\u001b[39m\u001b[38;5;124m\"\u001b[39m,\n\u001b[0;32m    569\u001b[0m                   paCanNotReadFromAnOutputOnlyStream)\n\u001b[1;32m--> 570\u001b[0m \u001b[38;5;28;01mreturn\u001b[39;00m \u001b[43mpa\u001b[49m\u001b[38;5;241;43m.\u001b[39;49m\u001b[43mread_stream\u001b[49m\u001b[43m(\u001b[49m\u001b[38;5;28;43mself\u001b[39;49m\u001b[38;5;241;43m.\u001b[39;49m\u001b[43m_stream\u001b[49m\u001b[43m,\u001b[49m\u001b[43m \u001b[49m\u001b[43mnum_frames\u001b[49m\u001b[43m,\u001b[49m\n\u001b[0;32m    571\u001b[0m \u001b[43m                      \u001b[49m\u001b[43mexception_on_overflow\u001b[49m\u001b[43m)\u001b[49m\n",
      "\u001b[1;31mKeyboardInterrupt\u001b[0m: "
     ]
    }
   ],
   "source": [
    "# Main voice assistant loop\n",
    "while True:\n",
    "    query = listen()\n",
    "\n",
    "    if \"hello\" in query:\n",
    "        speak(\"Hello! How can I assist you today?\")\n",
    "\n",
    "    elif \"what is the time\" in query:\n",
    "        current_time = datetime.datetime.now().strftime(\"%H:%M:%S\")\n",
    "        speak(f\"The current time is {current_time}\")\n",
    "\n",
    "    elif \"send email\" in query:\n",
    "        speak(\"Who is the recipient?\")\n",
    "        recipient = listen()\n",
    "        speak(\"What is the subject of the email?\")\n",
    "        subject = listen()\n",
    "        speak(\"What should I say in the email?\")\n",
    "        body = listen()\n",
    "\n",
    "        send_email(recipient, subject, body)\n",
    "        speak(\"Email sent successfully!\")\n",
    "\n",
    "    elif \"weather\" in query:\n",
    "        speak(\"Which city's weather would you like to know?\")\n",
    "        city = listen()\n",
    "        weather_info = get_weather(city)\n",
    "        speak(weather_info)\n",
    "\n",
    "    elif \"search\" in query:\n",
    "        speak(\"What would you like to search for?\")\n",
    "        search_query = listen()\n",
    "        url = f\"https://www.google.com/search?q={search_query}\"\n",
    "        webbrowser.open(url)\n",
    "        speak(f\"Here are the search results for {search_query}\")\n",
    "\n",
    "    elif \"wikipedia\" in query:\n",
    "        speak(\"What would you like to know from Wikipedia?\")\n",
    "        wiki_query = listen()\n",
    "        result = wikipedia.summary(wiki_query, sentences=1)\n",
    "        speak(result)\n",
    "\n",
    "    elif \"exit\" in query or \"bye\" in query:\n",
    "        speak(\"Goodbye!\")\n",
    "        break\n",
    "\n",
    "    else:\n",
    "        speak(\"I'm sorry, I don't understand that command. Could you please repeat?\")"
   ]
  },
  {
   "cell_type": "code",
   "execution_count": null,
   "id": "e3bc5edd",
   "metadata": {},
   "outputs": [],
   "source": []
  }
 ],
 "metadata": {
  "kernelspec": {
   "display_name": "Python 3 (ipykernel)",
   "language": "python",
   "name": "python3"
  },
  "language_info": {
   "codemirror_mode": {
    "name": "ipython",
    "version": 3
   },
   "file_extension": ".py",
   "mimetype": "text/x-python",
   "name": "python",
   "nbconvert_exporter": "python",
   "pygments_lexer": "ipython3",
   "version": "3.11.0"
  }
 },
 "nbformat": 4,
 "nbformat_minor": 5
}
