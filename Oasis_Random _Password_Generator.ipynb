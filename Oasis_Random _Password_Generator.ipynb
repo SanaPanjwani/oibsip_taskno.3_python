{
 "cells": [
  {
   "cell_type": "raw",
   "id": "b3e72b9b",
   "metadata": {},
   "source": [
    "Oasis Task: Develop an Advanced Password Generator with a graphical user interface (GUI) using Tkinter or PyQt."
   ]
  },
  {
   "cell_type": "code",
   "execution_count": null,
   "id": "4f2ed20f",
   "metadata": {
    "scrolled": true
   },
   "outputs": [],
   "source": [
    "import tkinter as tk\n",
    "import random\n",
    "import string\n",
    "\n",
    "def Generate_Password():\n",
    "    # Set password length and character sets\n",
    "    length = int(length_entry.get())\n",
    "    letters = set(string.ascii_letters)\n",
    "    numbers = set(string.digits)\n",
    "    symbols = set(string.punctuation)\n",
    "\n",
    "    selected_characters = list(letters)\n",
    "\n",
    "    # Add numbers and symbols if requested\n",
    "    if include_numbers.get():\n",
    "        selected_characters.extend(numbers)\n",
    "\n",
    "    if include_symbols.get():\n",
    "        selected_characters.extend(symbols)\n",
    "\n",
    "    # Generate random password\n",
    "    password = \"\".join(random.choice(selected_characters) for _ in range(length))\n",
    "\n",
    "    # Update password label\n",
    "    password_label.config(text=password)\n",
    "\n",
    "# Create the GUI\n",
    "app = tk.Tk()\n",
    "app.title(\"Advanced Password Generator\")\n",
    "custom_color = \"#e6e6fa\"\n",
    "# Password length\n",
    "length_label = tk.Label(app,font=(\"Times New Roman\", 16), text=\"Enter Password Length:\",\n",
    "                        width=20, anchor=\"w\", bg=custom_color)\n",
    "length_label.pack()\n",
    "\n",
    "length_entry = tk.Entry(app, width=16, bg=\"lightgray\", font=(\"Times New Roman\", 16))\n",
    "length_entry.pack()\n",
    "\n",
    "# Character set options\n",
    "include_numbers = tk.IntVar()\n",
    "include_numbers_checkbox = tk.Checkbutton(app, width=16, text=\"Include numbers\",\n",
    "                                          variable=include_numbers,\n",
    "                                          bg=\"lightyellow\",font=(\"Times New Roman\", 16))\n",
    "include_numbers_checkbox.pack()\n",
    "\n",
    "include_symbols = tk.IntVar()\n",
    "include_symbols_checkbox = tk.Checkbutton(app, width=16, text=\"Include symbols\",\n",
    "                                          variable=include_symbols, bg=\"lightyellow\",\n",
    "                                          font=(\"Times New Roman\", 16))\n",
    "include_symbols_checkbox.pack()\n",
    "\n",
    "# Generate button and password label\n",
    "generate_button = tk.Button(app, text=\"Generate Password\", command=Generate_Password,\n",
    "                            width=20, height=2, fg=\"white\", bg=\"black\",font=(\"Times New Roman\", 16))\n",
    "generate_button.pack(pady=10)\n",
    "\n",
    "password_label = tk.Label(app, text=\"\", font=(\"Times New Roman\", 24), width=20, height=2,\n",
    "                          bg=\"lightyellow\")\n",
    "password_label.pack()\n",
    "\n",
    "app.mainloop()"
   ]
  },
  {
   "cell_type": "code",
   "execution_count": null,
   "id": "069f7951",
   "metadata": {},
   "outputs": [],
   "source": []
  }
 ],
 "metadata": {
  "kernelspec": {
   "display_name": "Python 3 (ipykernel)",
   "language": "python",
   "name": "python3"
  },
  "language_info": {
   "codemirror_mode": {
    "name": "ipython",
    "version": 3
   },
   "file_extension": ".py",
   "mimetype": "text/x-python",
   "name": "python",
   "nbconvert_exporter": "python",
   "pygments_lexer": "ipython3",
   "version": "3.11.0"
  }
 },
 "nbformat": 4,
 "nbformat_minor": 5
}
